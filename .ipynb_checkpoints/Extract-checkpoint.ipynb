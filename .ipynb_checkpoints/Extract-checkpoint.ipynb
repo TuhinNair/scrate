{
 "cells": [
  {
   "cell_type": "code",
   "execution_count": 1,
   "metadata": {},
   "outputs": [],
   "source": [
    "from zipfile import ZipFile\n",
    "from pathlib import Path\n",
    "import os\n",
    "from bs4 import BeautifulSoup as bs\n",
    "import pandas as pd\n",
    "import numpy as np"
   ]
  },
  {
   "cell_type": "code",
   "execution_count": 2,
   "metadata": {},
   "outputs": [],
   "source": [
    "p = Path()\n",
    "cur_dir = p.cwd()\n",
    "with ZipFile(p.joinpath(cur_dir, 'data', 'html_job_postings.zip')) as zipfile:\n",
    "    zipfile.extractall(p.joinpath(cur_dir, 'html_job_postings'))"
   ]
  },
  {
   "cell_type": "code",
   "execution_count": 3,
   "metadata": {},
   "outputs": [],
   "source": [
    "all_resumes =os.listdir(p.joinpath(cur_dir, 'html_job_postings', 'html_job_postings'))"
   ]
  },
  {
   "cell_type": "code",
   "execution_count": 29,
   "metadata": {},
   "outputs": [
    {
     "name": "stdout",
     "output_type": "stream",
     "text": [
      "0       jr. data scientist - technology associate prog...\n",
      "1              nosql database administrator - houston, tx\n",
      "2                   senior data engineer - reno, nv 89501\n",
      "3       director, data scientist, natural language pro...\n",
      "4                    data science consultant - boston, ma\n",
      "                              ...                        \n",
      "1332    manager, natural language processing data scie...\n",
      "1333                    data scientist - denver, co 80221\n",
      "1334             data scientist i-iii - phoenix, az 85021\n",
      "1335    data analytics instructor - uc berkeley (belmo...\n",
      "1336    2020 summer intern: modeling analyst - charlot...\n",
      "Name: title, Length: 1235, dtype: object\n"
     ]
    }
   ],
   "source": [
    "data = []\n",
    "for resume in all_resumes:\n",
    "    with open(p.joinpath(cur_dir, 'html_job_postings', 'html_job_postings', resume)) as html_file:\n",
    "        soup = bs(html_file)\n",
    "        title = soup.find('title').text.lower()\n",
    "        all_list_items = list(filter(lambda x: x, [li.text.lower().strip(\"\\n\") for li in soup.find_all('li')]))\n",
    "        datum = [resume, title, all_list_items]\n",
    "        data.append(datum)\n",
    "            \n",
    "raw_dataframe = pd.DataFrame(data, columns=['file', 'title', 'bullets'])\n",
    "raw_dataframe.drop_duplicates(['title'], inplace=True)"
   ]
  },
  {
   "cell_type": "code",
   "execution_count": 39,
   "metadata": {},
   "outputs": [],
   "source": [
    "is_data_related = dataframe[dataframe['title'].str.contains('data')].reset_index(drop=True)\n",
    "is_data_related.to_csv(p.joinpath(cur_dir, 'extracted.csv'))"
   ]
  },
  {
   "cell_type": "code",
   "execution_count": 40,
   "metadata": {},
   "outputs": [
    {
     "name": "stdout",
     "output_type": "stream",
     "text": [
      "     Unnamed: 0                         file  \\\n",
      "0             0  a146948338c8d67e_fccid.html   \n",
      "1             1  7184ee7926e95ed4_fccid.html   \n",
      "2             2  09c19480dbe9952f_fccid.html   \n",
      "3             3                      _p.html   \n",
      "4             4  aa9724a64d565b3d_fccid.html   \n",
      "..          ...                          ...   \n",
      "601        1331  34daff62bfb450bd_fccid.html   \n",
      "602        1332  38527c8a5b5570a1_fccid.html   \n",
      "603        1333  4f1f34e05be5bcf8_fccid.html   \n",
      "604        1334  4a66d527c9dc6a33_fccid.html   \n",
      "605        1335  5af3fe8069da81c9_fccid.html   \n",
      "\n",
      "                                                 title  \\\n",
      "0    jr. data scientist - technology associate prog...   \n",
      "1           nosql database administrator - houston, tx   \n",
      "2                senior data engineer - reno, nv 89501   \n",
      "3    director, data scientist, natural language pro...   \n",
      "4                 data science consultant - boston, ma   \n",
      "..                                                 ...   \n",
      "601      junior data scientist - los angeles, ca 90048   \n",
      "602  manager, natural language processing data scie...   \n",
      "603                  data scientist - denver, co 80221   \n",
      "604           data scientist i-iii - phoenix, az 85021   \n",
      "605  data analytics instructor - uc berkeley (belmo...   \n",
      "\n",
      "                                               bullets  \n",
      "0    ['technical training to enhance your skills wi...  \n",
      "1    ['implement ha solution and define backup/reco...  \n",
      "2    ['creating and refining bounded (batch) and un...  \n",
      "3    ['lead workshops, innovation sessions with cli...  \n",
      "4                                                   []  \n",
      "..                                                 ...  \n",
      "601  ['translate business requirements into researc...  \n",
      "602  ['lead workshops and innovation sessions with ...  \n",
      "603  ['design experiments and formulate machine lea...  \n",
      "604                                                 []  \n",
      "605  ['lead lectures and educational coding activit...  \n",
      "\n",
      "[606 rows x 4 columns]\n"
     ]
    }
   ],
   "source": [
    "extracted = pd.read_csv(p.joinpath(cur_dir, 'extracted.csv'))\n",
    "print(extracted)"
   ]
  }
 ],
 "metadata": {
  "kernelspec": {
   "display_name": "Python 3",
   "language": "python",
   "name": "python3"
  },
  "language_info": {
   "codemirror_mode": {
    "name": "ipython",
    "version": 3
   },
   "file_extension": ".py",
   "mimetype": "text/x-python",
   "name": "python",
   "nbconvert_exporter": "python",
   "pygments_lexer": "ipython3",
   "version": "3.8.3"
  }
 },
 "nbformat": 4,
 "nbformat_minor": 4
}
