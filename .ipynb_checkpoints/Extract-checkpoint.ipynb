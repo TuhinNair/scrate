{
 "cells": [
  {
   "cell_type": "code",
   "execution_count": 17,
   "metadata": {},
   "outputs": [],
   "source": [
    "from zipfile import ZipFile\n",
    "from pathlib import Path\n",
    "import os\n",
    "from bs4 import BeautifulSoup as bs\n",
    "import pandas as pd\n",
    "import numpy as np"
   ]
  },
  {
   "cell_type": "code",
   "execution_count": 3,
   "metadata": {},
   "outputs": [],
   "source": [
    "p = Path()\n",
    "cur_dir = p.cwd()\n",
    "with ZipFile(p.joinpath(cur_dir, 'data', 'html_job_postings.zip')) as zipfile:\n",
    "    zipfile.extractall(p.joinpath(cur_dir, 'html_job_postings'))"
   ]
  },
  {
   "cell_type": "code",
   "execution_count": 5,
   "metadata": {},
   "outputs": [],
   "source": [
    "all_resumes =os.listdir(p.joinpath(cur_dir, 'html_job_postings', 'html_job_postings'))"
   ]
  },
  {
   "cell_type": "code",
   "execution_count": 19,
   "metadata": {},
   "outputs": [],
   "source": [
    "data = []\n",
    "for resume in all_resumes:\n",
    "    with open(p.joinpath(cur_dir, 'html_job_postings', 'html_job_postings', resume)) as html_file:\n",
    "        soup = bs(html_file)\n",
    "        lists = soup.find_all('li')\n",
    "        data += [[li.text.strip(\"\\n\") for li in lists]]\n"
   ]
  },
  {
   "cell_type": "code",
   "execution_count": 25,
   "metadata": {},
   "outputs": [],
   "source": [
    "dataframe = pd.DataFrame(data)\n"
   ]
  }
 ],
 "metadata": {
  "kernelspec": {
   "display_name": "Python 3",
   "language": "python",
   "name": "python3"
  },
  "language_info": {
   "codemirror_mode": {
    "name": "ipython",
    "version": 3
   },
   "file_extension": ".py",
   "mimetype": "text/x-python",
   "name": "python",
   "nbconvert_exporter": "python",
   "pygments_lexer": "ipython3",
   "version": "3.8.3"
  }
 },
 "nbformat": 4,
 "nbformat_minor": 4
}
