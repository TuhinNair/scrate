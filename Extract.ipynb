{
 "cells": [
  {
   "cell_type": "code",
   "execution_count": 1,
   "metadata": {},
   "outputs": [],
   "source": [
    "from zipfile import ZipFile\n",
    "from pathlib import Path\n",
    "import os\n",
    "from bs4 import BeautifulSoup as bs\n",
    "import pandas as pd\n",
    "import numpy as np"
   ]
  },
  {
   "cell_type": "code",
   "execution_count": 2,
   "metadata": {},
   "outputs": [],
   "source": [
    "p = Path()\n",
    "cur_dir = p.cwd()\n",
    "with ZipFile(p.joinpath(cur_dir, 'data', 'html_job_postings.zip')) as zipfile:\n",
    "    zipfile.extractall(p.joinpath(cur_dir, 'html_job_postings'))"
   ]
  },
  {
   "cell_type": "code",
   "execution_count": 3,
   "metadata": {},
   "outputs": [],
   "source": [
    "all_resumes =os.listdir(p.joinpath(cur_dir, 'html_job_postings', 'html_job_postings'))"
   ]
  },
  {
   "cell_type": "code",
   "execution_count": 29,
   "metadata": {},
   "outputs": [
    {
     "name": "stdout",
     "output_type": "stream",
     "text": [
      "0       jr. data scientist - technology associate prog...\n",
      "1              nosql database administrator - houston, tx\n",
      "2                   senior data engineer - reno, nv 89501\n",
      "3       director, data scientist, natural language pro...\n",
      "4                    data science consultant - boston, ma\n",
      "                              ...                        \n",
      "1332    manager, natural language processing data scie...\n",
      "1333                    data scientist - denver, co 80221\n",
      "1334             data scientist i-iii - phoenix, az 85021\n",
      "1335    data analytics instructor - uc berkeley (belmo...\n",
      "1336    2020 summer intern: modeling analyst - charlot...\n",
      "Name: title, Length: 1235, dtype: object\n"
     ]
    }
   ],
   "source": [
    "data = []\n",
    "for resume in all_resumes:\n",
    "    with open(p.joinpath(cur_dir, 'html_job_postings', 'html_job_postings', resume)) as html_file:\n",
    "        soup = bs(html_file)\n",
    "        title = soup.find('title').text.lower()\n",
    "        all_list_items = list(filter(lambda x: x, [li.text.lower().strip(\"\\n\") for li in soup.find_all('li')]))\n",
    "        datum = [resume, title, all_list_items]\n",
    "        data.append(datum)\n",
    "            \n",
    "raw_dataframe = pd.DataFrame(data, columns=['file', 'title', 'bullets'])\n",
    "raw_dataframe.drop_duplicates(['title'], inplace=True)"
   ]
  },
  {
   "cell_type": "code",
   "execution_count": 41,
   "metadata": {},
   "outputs": [],
   "source": [
    "is_data_related = dataframe[dataframe['title'].str.contains('data')].reset_index(drop=True)\n",
    "is_data_related.to_csv(p.joinpath(cur_dir, 'extracted.csv'))"
   ]
  }
 ],
 "metadata": {
  "kernelspec": {
   "display_name": "Python 3",
   "language": "python",
   "name": "python3"
  },
  "language_info": {
   "codemirror_mode": {
    "name": "ipython",
    "version": 3
   },
   "file_extension": ".py",
   "mimetype": "text/x-python",
   "name": "python",
   "nbconvert_exporter": "python",
   "pygments_lexer": "ipython3",
   "version": "3.8.3"
  }
 },
 "nbformat": 4,
 "nbformat_minor": 4
}